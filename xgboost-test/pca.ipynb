{
 "cells": [
  {
   "cell_type": "code",
   "execution_count": 1,
   "metadata": {},
   "outputs": [],
   "source": [
    "import pandas as pd\n",
    "import numpy as np\n",
    "import matplotlib.pyplot as plt\n",
    "import io\n",
    "import os\n",
    "import sys\n",
    "import time\n",
    "import json\n",
    "from IPython.display import display\n",
    "from time import strftime, gmtime\n",
    "import boto3\n",
    "import re\n",
    "\n",
    "import sagemaker\n",
    "from sagemaker import get_execution_role"
   ]
  },
  {
   "cell_type": "code",
   "execution_count": 2,
   "metadata": {},
   "outputs": [],
   "source": [
    "role = sagemaker.get_execution_role()\n"
   ]
  },
  {
   "cell_type": "code",
   "execution_count": 3,
   "metadata": {},
   "outputs": [],
   "source": [
    "#initiate s3 resource\n",
    "s3 = boto3.resource('s3')\n",
    "\n",
    "# select bucket\n",
    "my_bucket = s3.Bucket('sagemaker-studio-i8kf84zy9f')\n",
    "def downloadDirectoryFroms3(bucketName, remoteDirectoryName):\n",
    "    s3_resource = boto3.resource('s3')\n",
    "    bucket = s3_resource.Bucket(bucketName) \n",
    "    for obj in bucket.objects.filter(Prefix = remoteDirectoryName):\n",
    "        if (obj.key == remoteDirectoryName + \"/\"):\n",
    "            continue\n",
    "        if not os.path.exists(os.path.dirname(obj.key)):\n",
    "            os.makedirs(os.path.dirname(obj.key))\n",
    "        bucket.download_file(obj.key, obj.key)\n",
    "        \n",
    "downloadDirectoryFroms3('sagemaker-studio-i8kf84zy9f', 'HF_Prop_cal')\n",
    "downloadDirectoryFroms3('sagemaker-studio-i8kf84zy9f', 'oil')"
   ]
  },
  {
   "cell_type": "code",
   "execution_count": 30,
   "metadata": {},
   "outputs": [
    {
     "name": "stdout",
     "output_type": "stream",
     "text": [
      "load oil markers...\n",
      "['HF_Prop_cal/201.csv' 'HF_Prop_cal/202.csv' 'HF_Prop_cal/203.csv'\n",
      " 'HF_Prop_cal/205.csv' 'HF_Prop_cal/206.csv' 'HF_Prop_cal/209.csv'\n",
      " 'HF_Prop_cal/210.csv' 'HF_Prop_cal/212.csv' 'HF_Prop_cal/213.csv'\n",
      " 'HF_Prop_cal/214.csv']\n",
      "From file  HF_Prop_cal/201.csv  loaded dataframe of size:  (5115, 29)\n",
      "After filtering marker data frame size:  (4753, 27)\n",
      "From file  HF_Prop_cal/202.csv  loaded dataframe of size:  (2336, 29)\n",
      "After filtering marker data frame size:  (2174, 27)\n",
      "From file  HF_Prop_cal/203.csv  loaded dataframe of size:  (9533, 29)\n",
      "After filtering marker data frame size:  (9006, 27)\n",
      "From file  HF_Prop_cal/205.csv  loaded dataframe of size:  (2750, 29)\n",
      "After filtering marker data frame size:  (2724, 27)\n",
      "From file  HF_Prop_cal/206.csv  loaded dataframe of size:  (3122, 29)\n",
      "After filtering marker data frame size:  (3122, 27)\n",
      "From file  HF_Prop_cal/209.csv  loaded dataframe of size:  (3458, 29)\n",
      "After filtering marker data frame size:  (3446, 27)\n",
      "From file  HF_Prop_cal/210.csv  loaded dataframe of size:  (1516, 29)\n",
      "After filtering marker data frame size:  (1512, 27)\n",
      "From file  HF_Prop_cal/212.csv  loaded dataframe of size:  (3527, 29)\n",
      "After filtering marker data frame size:  (3442, 27)\n",
      "From file  HF_Prop_cal/213.csv  loaded dataframe of size:  (9361, 29)\n",
      "After filtering marker data frame size:  (9245, 27)\n",
      "From file  HF_Prop_cal/214.csv  loaded dataframe of size:  (1603, 29)\n",
      "After filtering marker data frame size:  (1599, 27)\n"
     ]
    }
   ],
   "source": [
    "training_set_path = \"./training_set.txt\" # path to the file describing training set\n",
    "oil_files_list = [\"oil/oil-0.csv\",\n",
    "                  \"oil/oil-0(1).csv\"]\n",
    "oil_classifier = 'SVM' # or 'IsolationForest'\n",
    "max_oil_samples = 200000\n",
    "remove_negative_signals = True\n",
    "ignore_time = True\n",
    "features_to_train = ['FSC-H','SSC-H','BL-530-H','BL-586-H','BL-615-H','BL-660-H','BL-695-H','BL-725-H','BL-780-H','RL-660-H','RL-695-H','RL-725-H','RL-780-H','VL-445-H',\n",
    "                     'VL-530-H','VL-586-H','VL-615-H','VL-660-H','VL-695-H','VL-725-H','VL-780-H','YL-586-H','YL-615-H','YL-660-H','YL-695-H','YL-725-H','YL-780-H']\n",
    "\n",
    "def filter_data(df, features_list): \n",
    "    df = df[features_list]\n",
    "    if remove_negative_signals:\n",
    "        for feature in features_list:\n",
    "            df = df[df[feature] > 0]\n",
    "    else:\n",
    "        for feature in features_list:\n",
    "            df = df[df[feature] != 0]\n",
    "\n",
    "\n",
    "    X = np.array(df)\n",
    "    negative_mask = X < 0\n",
    "    X = np.abs(X)\n",
    "    X = np.log10(X)\n",
    "    X[negative_mask] *= -1\n",
    "\n",
    "    #X = np.cbrt(X)\n",
    "\n",
    "    df = pd.DataFrame(X, columns=features_list)\n",
    "    return df\n",
    "\n",
    "\n",
    "def load_training_set(path):\n",
    "    df = pd.read_csv(path)\n",
    "\n",
    "    arr = np.asarray(df)\n",
    "    filenames = arr[:, 0]\n",
    "    marker_names = arr[:, 1]\n",
    "    return filenames, marker_names\n",
    "\n",
    "\n",
    "def load_markers(filename, oil_clf):\n",
    "    df = pd.read_csv(filename)\n",
    "    print(\"From file \", filename, \" loaded dataframe of size: \", df.shape)\n",
    "\n",
    "    # drop events before start_time\n",
    "    if not ignore_time and \"Time\" in df.keys():\n",
    "        ind = df[\"Time\"] > start_time\n",
    "        df = df[ind]\n",
    "\n",
    "    # only interesting features\n",
    "    df = filter_data(df, features_to_train)\n",
    "\n",
    "    #df = filter_marker(df, features_to_train, oil_clf)\n",
    "    print(\"After filtering marker data frame size: \", df.shape)\n",
    "\n",
    "    return df\n",
    "\n",
    "\n",
    "def create_trainig_set(): \n",
    "    print(\"load oil markers...\") \n",
    "    #oil_clf, oil_data = train_oil_model(oil_files_list) \n",
    "    #joblib.dump(oil_clf, \"oil_model.pkl\")\n",
    "\n",
    "    filenames, marker_names = load_training_set(training_set_path)\n",
    "    print(filenames)\n",
    "\n",
    "    X_df = load_markers(filenames[0], None)\n",
    "    X = X_df.values\n",
    "\n",
    "    label = 0\n",
    "\n",
    "    (nsamples, nfeatures) = X.shape\n",
    "    y = np.full((nsamples, 1), label)\n",
    "\n",
    "    label += 1\n",
    "    for i in range(1, len(filenames)):\n",
    "        X_df = load_markers(filenames[i], None)\n",
    "        (nsamples, nfeatures) = X_df.shape\n",
    "        y1 = np.full((nsamples, 1), label)\n",
    "\n",
    "        X = np.vstack((X, X_df.values))\n",
    "        y = np.vstack((y, y1))\n",
    "\n",
    "        i += 1\n",
    "        label += 1\n",
    "\n",
    "\n",
    "    # add_oil_to_train_set\n",
    "#     nsamples = len(oil_data)\n",
    "#     y1 = np.full((nsamples, 1), label)\n",
    "\n",
    "#     X = np.vstack((X, oil_data.values))\n",
    "#     y = np.vstack((y, y1))\n",
    "\n",
    "    c, r = y.shape\n",
    "    y = y.reshape(c, )\n",
    "\n",
    "    return X, y\n",
    "\n",
    "X, y = create_trainig_set()"
   ]
  },
  {
   "cell_type": "code",
   "execution_count": 66,
   "metadata": {},
   "outputs": [],
   "source": [
    "from sagemaker import PCA\n",
    "num_components=8\n",
    "bucket = 'sagemaker-studio-i8kf84zy9f'\n",
    "\n",
    "pca_SM = PCA(role=role,\n",
    "             train_instance_count=1,\n",
    "             train_instance_type='ml.c4.xlarge',\n",
    "             output_path='s3://'+ bucket +'/pca/',\n",
    "             num_components=num_components)"
   ]
  },
  {
   "cell_type": "code",
   "execution_count": 67,
   "metadata": {},
   "outputs": [
    {
     "name": "stderr",
     "output_type": "stream",
     "text": [
      "'get_image_uri' method will be deprecated in favor of 'ImageURIProvider' class in SageMaker Python SDK v2.\n",
      "'s3_input' class will be renamed to 'TrainingInput' in SageMaker Python SDK v2.\n",
      "'get_image_uri' method will be deprecated in favor of 'ImageURIProvider' class in SageMaker Python SDK v2.\n"
     ]
    },
    {
     "name": "stdout",
     "output_type": "stream",
     "text": [
      "2020-08-04 08:47:13 Starting - Starting the training job...\n",
      "2020-08-04 08:47:15 Starting - Launching requested ML instances.........\n",
      "2020-08-04 08:48:47 Starting - Preparing the instances for training......\n",
      "2020-08-04 08:50:03 Downloading - Downloading input data...\n",
      "2020-08-04 08:50:44 Training - Training image download completed. Training in progress...\u001b[34mDocker entrypoint called with argument(s): train\u001b[0m\n",
      "\u001b[34mRunning default environment configuration script\u001b[0m\n",
      "\u001b[34m[08/04/2020 08:50:47 INFO 140257548547904] Reading default configuration from /opt/amazon/lib/python2.7/site-packages/algorithm/resources/default-conf.json: {u'_num_gpus': u'auto', u'_log_level': u'info', u'subtract_mean': u'true', u'force_dense': u'true', u'epochs': 1, u'algorithm_mode': u'regular', u'extra_components': u'-1', u'_kvstore': u'dist_sync', u'_num_kv_servers': u'auto'}\u001b[0m\n",
      "\u001b[34m[08/04/2020 08:50:47 INFO 140257548547904] Reading provided configuration from /opt/ml/input/config/hyperparameters.json: {u'feature_dim': u'27', u'mini_batch_size': u'500', u'num_components': u'8'}\u001b[0m\n",
      "\u001b[34m[08/04/2020 08:50:47 INFO 140257548547904] Final configuration: {u'num_components': u'8', u'_num_gpus': u'auto', u'_log_level': u'info', u'subtract_mean': u'true', u'force_dense': u'true', u'epochs': 1, u'algorithm_mode': u'regular', u'feature_dim': u'27', u'extra_components': u'-1', u'_kvstore': u'dist_sync', u'_num_kv_servers': u'auto', u'mini_batch_size': u'500'}\u001b[0m\n",
      "\u001b[34m[08/04/2020 08:50:47 WARNING 140257548547904] Loggers have already been setup.\u001b[0m\n",
      "\u001b[34m[08/04/2020 08:50:47 INFO 140257548547904] Launching parameter server for role scheduler\u001b[0m\n",
      "\u001b[34m[08/04/2020 08:50:47 INFO 140257548547904] {'ECS_CONTAINER_METADATA_URI': 'http://169.254.170.2/v3/224d61da-0fb8-4531-b7ef-4b640f4445e4', 'ECS_CONTAINER_METADATA_URI_V4': 'http://169.254.170.2/v4/224d61da-0fb8-4531-b7ef-4b640f4445e4', 'PROTOCOL_BUFFERS_PYTHON_IMPLEMENTATION_VERSION': '2', 'PATH': '/opt/amazon/bin:/usr/local/nvidia/bin:/usr/local/sbin:/usr/local/bin:/usr/sbin:/usr/bin:/sbin:/bin:/opt/amazon/bin:/opt/amazon/bin', 'SAGEMAKER_HTTP_PORT': '8080', 'HOME': '/root', 'PYTHONUNBUFFERED': 'TRUE', 'CANONICAL_ENVROOT': '/opt/amazon', 'LD_LIBRARY_PATH': '/opt/amazon/lib/python2.7/site-packages/cv2/../../../../lib:/usr/local/nvidia/lib64:/opt/amazon/lib', 'LANG': 'en_US.utf8', 'DMLC_INTERFACE': 'eth0', 'SHLVL': '1', 'AWS_REGION': 'eu-west-1', 'NVIDIA_VISIBLE_DEVICES': 'void', 'TRAINING_JOB_NAME': 'pca-2020-08-04-08-47-13-082', 'PROTOCOL_BUFFERS_PYTHON_IMPLEMENTATION': 'cpp', 'ENVROOT': '/opt/amazon', 'SAGEMAKER_DATA_PATH': '/opt/ml', 'NVIDIA_DRIVER_CAPABILITIES': 'compute,utility', 'NVIDIA_REQUIRE_CUDA': 'cuda>=9.0', 'OMP_NUM_THREADS': '2', 'HOSTNAME': 'ip-10-0-111-191.eu-west-1.compute.internal', 'AWS_CONTAINER_CREDENTIALS_RELATIVE_URI': '/v2/credentials/64f72d5f-0a87-428f-952e-0d6a239b4d55', 'PWD': '/', 'TRAINING_JOB_ARN': 'arn:aws:sagemaker:eu-west-1:647453829825:training-job/pca-2020-08-04-08-47-13-082', 'AWS_EXECUTION_ENV': 'AWS_ECS_EC2'}\u001b[0m\n",
      "\u001b[34m[08/04/2020 08:50:47 INFO 140257548547904] envs={'ECS_CONTAINER_METADATA_URI': 'http://169.254.170.2/v3/224d61da-0fb8-4531-b7ef-4b640f4445e4', 'ECS_CONTAINER_METADATA_URI_V4': 'http://169.254.170.2/v4/224d61da-0fb8-4531-b7ef-4b640f4445e4', 'PROTOCOL_BUFFERS_PYTHON_IMPLEMENTATION_VERSION': '2', 'DMLC_NUM_WORKER': '1', 'DMLC_PS_ROOT_PORT': '9000', 'PATH': '/opt/amazon/bin:/usr/local/nvidia/bin:/usr/local/sbin:/usr/local/bin:/usr/sbin:/usr/bin:/sbin:/bin:/opt/amazon/bin:/opt/amazon/bin', 'SAGEMAKER_HTTP_PORT': '8080', 'HOME': '/root', 'PYTHONUNBUFFERED': 'TRUE', 'CANONICAL_ENVROOT': '/opt/amazon', 'LD_LIBRARY_PATH': '/opt/amazon/lib/python2.7/site-packages/cv2/../../../../lib:/usr/local/nvidia/lib64:/opt/amazon/lib', 'LANG': 'en_US.utf8', 'DMLC_INTERFACE': 'eth0', 'SHLVL': '1', 'DMLC_PS_ROOT_URI': '10.0.111.191', 'AWS_REGION': 'eu-west-1', 'NVIDIA_VISIBLE_DEVICES': 'void', 'TRAINING_JOB_NAME': 'pca-2020-08-04-08-47-13-082', 'PROTOCOL_BUFFERS_PYTHON_IMPLEMENTATION': 'cpp', 'ENVROOT': '/opt/amazon', 'SAGEMAKER_DATA_PATH': '/opt/ml', 'NVIDIA_DRIVER_CAPABILITIES': 'compute,utility', 'NVIDIA_REQUIRE_CUDA': 'cuda>=9.0', 'OMP_NUM_THREADS': '2', 'HOSTNAME': 'ip-10-0-111-191.eu-west-1.compute.internal', 'AWS_CONTAINER_CREDENTIALS_RELATIVE_URI': '/v2/credentials/64f72d5f-0a87-428f-952e-0d6a239b4d55', 'DMLC_ROLE': 'scheduler', 'PWD': '/', 'DMLC_NUM_SERVER': '1', 'TRAINING_JOB_ARN': 'arn:aws:sagemaker:eu-west-1:647453829825:training-job/pca-2020-08-04-08-47-13-082', 'AWS_EXECUTION_ENV': 'AWS_ECS_EC2'}\u001b[0m\n",
      "\u001b[34m[08/04/2020 08:50:47 INFO 140257548547904] Launching parameter server for role server\u001b[0m\n",
      "\u001b[34m[08/04/2020 08:50:47 INFO 140257548547904] {'ECS_CONTAINER_METADATA_URI': 'http://169.254.170.2/v3/224d61da-0fb8-4531-b7ef-4b640f4445e4', 'ECS_CONTAINER_METADATA_URI_V4': 'http://169.254.170.2/v4/224d61da-0fb8-4531-b7ef-4b640f4445e4', 'PROTOCOL_BUFFERS_PYTHON_IMPLEMENTATION_VERSION': '2', 'PATH': '/opt/amazon/bin:/usr/local/nvidia/bin:/usr/local/sbin:/usr/local/bin:/usr/sbin:/usr/bin:/sbin:/bin:/opt/amazon/bin:/opt/amazon/bin', 'SAGEMAKER_HTTP_PORT': '8080', 'HOME': '/root', 'PYTHONUNBUFFERED': 'TRUE', 'CANONICAL_ENVROOT': '/opt/amazon', 'LD_LIBRARY_PATH': '/opt/amazon/lib/python2.7/site-packages/cv2/../../../../lib:/usr/local/nvidia/lib64:/opt/amazon/lib', 'LANG': 'en_US.utf8', 'DMLC_INTERFACE': 'eth0', 'SHLVL': '1', 'AWS_REGION': 'eu-west-1', 'NVIDIA_VISIBLE_DEVICES': 'void', 'TRAINING_JOB_NAME': 'pca-2020-08-04-08-47-13-082', 'PROTOCOL_BUFFERS_PYTHON_IMPLEMENTATION': 'cpp', 'ENVROOT': '/opt/amazon', 'SAGEMAKER_DATA_PATH': '/opt/ml', 'NVIDIA_DRIVER_CAPABILITIES': 'compute,utility', 'NVIDIA_REQUIRE_CUDA': 'cuda>=9.0', 'OMP_NUM_THREADS': '2', 'HOSTNAME': 'ip-10-0-111-191.eu-west-1.compute.internal', 'AWS_CONTAINER_CREDENTIALS_RELATIVE_URI': '/v2/credentials/64f72d5f-0a87-428f-952e-0d6a239b4d55', 'PWD': '/', 'TRAINING_JOB_ARN': 'arn:aws:sagemaker:eu-west-1:647453829825:training-job/pca-2020-08-04-08-47-13-082', 'AWS_EXECUTION_ENV': 'AWS_ECS_EC2'}\u001b[0m\n",
      "\u001b[34m[08/04/2020 08:50:47 INFO 140257548547904] envs={'ECS_CONTAINER_METADATA_URI': 'http://169.254.170.2/v3/224d61da-0fb8-4531-b7ef-4b640f4445e4', 'ECS_CONTAINER_METADATA_URI_V4': 'http://169.254.170.2/v4/224d61da-0fb8-4531-b7ef-4b640f4445e4', 'PROTOCOL_BUFFERS_PYTHON_IMPLEMENTATION_VERSION': '2', 'DMLC_NUM_WORKER': '1', 'DMLC_PS_ROOT_PORT': '9000', 'PATH': '/opt/amazon/bin:/usr/local/nvidia/bin:/usr/local/sbin:/usr/local/bin:/usr/sbin:/usr/bin:/sbin:/bin:/opt/amazon/bin:/opt/amazon/bin', 'SAGEMAKER_HTTP_PORT': '8080', 'HOME': '/root', 'PYTHONUNBUFFERED': 'TRUE', 'CANONICAL_ENVROOT': '/opt/amazon', 'LD_LIBRARY_PATH': '/opt/amazon/lib/python2.7/site-packages/cv2/../../../../lib:/usr/local/nvidia/lib64:/opt/amazon/lib', 'LANG': 'en_US.utf8', 'DMLC_INTERFACE': 'eth0', 'SHLVL': '1', 'DMLC_PS_ROOT_URI': '10.0.111.191', 'AWS_REGION': 'eu-west-1', 'NVIDIA_VISIBLE_DEVICES': 'void', 'TRAINING_JOB_NAME': 'pca-2020-08-04-08-47-13-082', 'PROTOCOL_BUFFERS_PYTHON_IMPLEMENTATION': 'cpp', 'ENVROOT': '/opt/amazon', 'SAGEMAKER_DATA_PATH': '/opt/ml', 'NVIDIA_DRIVER_CAPABILITIES': 'compute,utility', 'NVIDIA_REQUIRE_CUDA': 'cuda>=9.0', 'OMP_NUM_THREADS': '2', 'HOSTNAME': 'ip-10-0-111-191.eu-west-1.compute.internal', 'AWS_CONTAINER_CREDENTIALS_RELATIVE_URI': '/v2/credentials/64f72d5f-0a87-428f-952e-0d6a239b4d55', 'DMLC_ROLE': 'server', 'PWD': '/', 'DMLC_NUM_SERVER': '1', 'TRAINING_JOB_ARN': 'arn:aws:sagemaker:eu-west-1:647453829825:training-job/pca-2020-08-04-08-47-13-082', 'AWS_EXECUTION_ENV': 'AWS_ECS_EC2'}\u001b[0m\n",
      "\u001b[34m[08/04/2020 08:50:47 INFO 140257548547904] Environment: {'ECS_CONTAINER_METADATA_URI': 'http://169.254.170.2/v3/224d61da-0fb8-4531-b7ef-4b640f4445e4', 'ECS_CONTAINER_METADATA_URI_V4': 'http://169.254.170.2/v4/224d61da-0fb8-4531-b7ef-4b640f4445e4', 'PROTOCOL_BUFFERS_PYTHON_IMPLEMENTATION_VERSION': '2', 'DMLC_PS_ROOT_PORT': '9000', 'DMLC_NUM_WORKER': '1', 'SAGEMAKER_HTTP_PORT': '8080', 'PATH': '/opt/amazon/bin:/usr/local/nvidia/bin:/usr/local/sbin:/usr/local/bin:/usr/sbin:/usr/bin:/sbin:/bin:/opt/amazon/bin:/opt/amazon/bin', 'PYTHONUNBUFFERED': 'TRUE', 'CANONICAL_ENVROOT': '/opt/amazon', 'LD_LIBRARY_PATH': '/opt/amazon/lib/python2.7/site-packages/cv2/../../../../lib:/usr/local/nvidia/lib64:/opt/amazon/lib', 'LANG': 'en_US.utf8', 'DMLC_INTERFACE': 'eth0', 'SHLVL': '1', 'DMLC_PS_ROOT_URI': '10.0.111.191', 'AWS_REGION': 'eu-west-1', 'NVIDIA_VISIBLE_DEVICES': 'void', 'TRAINING_JOB_NAME': 'pca-2020-08-04-08-47-13-082', 'HOME': '/root', 'PROTOCOL_BUFFERS_PYTHON_IMPLEMENTATION': 'cpp', 'ENVROOT': '/opt/amazon', 'SAGEMAKER_DATA_PATH': '/opt/ml', 'NVIDIA_DRIVER_CAPABILITIES': 'compute,utility', 'NVIDIA_REQUIRE_CUDA': 'cuda>=9.0', 'OMP_NUM_THREADS': '2', 'HOSTNAME': 'ip-10-0-111-191.eu-west-1.compute.internal', 'AWS_CONTAINER_CREDENTIALS_RELATIVE_URI': '/v2/credentials/64f72d5f-0a87-428f-952e-0d6a239b4d55', 'DMLC_ROLE': 'worker', 'PWD': '/', 'DMLC_NUM_SERVER': '1', 'TRAINING_JOB_ARN': 'arn:aws:sagemaker:eu-west-1:647453829825:training-job/pca-2020-08-04-08-47-13-082', 'AWS_EXECUTION_ENV': 'AWS_ECS_EC2'}\u001b[0m\n",
      "\u001b[34mProcess 60 is a shell:scheduler.\u001b[0m\n",
      "\u001b[34mProcess 69 is a shell:server.\u001b[0m\n",
      "\u001b[34mProcess 1 is a worker.\u001b[0m\n",
      "\u001b[34m[08/04/2020 08:50:47 INFO 140257548547904] Using default worker.\u001b[0m\n",
      "\u001b[34m[08/04/2020 08:50:47 INFO 140257548547904] Loaded iterator creator application/x-recordio-protobuf for content type ('application/x-recordio-protobuf', '1.0')\u001b[0m\n",
      "\u001b[34m[08/04/2020 08:50:47 INFO 140257548547904] Loaded iterator creator application/x-labeled-vector-protobuf for content type ('application/x-labeled-vector-protobuf', '1.0')\u001b[0m\n",
      "\u001b[34m[08/04/2020 08:50:47 INFO 140257548547904] Loaded iterator creator protobuf for content type ('protobuf', '1.0')\u001b[0m\n",
      "\u001b[34m[08/04/2020 08:50:47 INFO 140257548547904] Create Store: dist_sync\u001b[0m\n",
      "\u001b[34m[08/04/2020 08:50:48 INFO 140257548547904] nvidia-smi took: 0.0252449512482 secs to identify 0 gpus\u001b[0m\n",
      "\u001b[34m[08/04/2020 08:50:48 INFO 140257548547904] Number of GPUs being used: 0\u001b[0m\n",
      "\u001b[34m[08/04/2020 08:50:48 INFO 140257548547904] The default executor is <PCAExecutor on cpu(0)>.\u001b[0m\n",
      "\u001b[34m[08/04/2020 08:50:48 INFO 140257548547904] 27 feature(s) found in 'data'.\u001b[0m\n",
      "\u001b[34m[08/04/2020 08:50:48 INFO 140257548547904] <PCAExecutor on cpu(0)> is assigned to batch slice from 0 to 499.\u001b[0m\n",
      "\u001b[34m#metrics {\"Metrics\": {\"initialize.time\": {\"count\": 1, \"max\": 749.6230602264404, \"sum\": 749.6230602264404, \"min\": 749.6230602264404}}, \"EndTime\": 1596531048.194434, \"Dimensions\": {\"Host\": \"algo-1\", \"Operation\": \"training\", \"Algorithm\": \"PCA\"}, \"StartTime\": 1596531047.433651}\n",
      "\u001b[0m\n",
      "\u001b[34m#metrics {\"Metrics\": {\"Max Batches Seen Between Resets\": {\"count\": 1, \"max\": 0, \"sum\": 0.0, \"min\": 0}, \"Number of Batches Since Last Reset\": {\"count\": 1, \"max\": 0, \"sum\": 0.0, \"min\": 0}, \"Number of Records Since Last Reset\": {\"count\": 1, \"max\": 0, \"sum\": 0.0, \"min\": 0}, \"Total Batches Seen\": {\"count\": 1, \"max\": 0, \"sum\": 0.0, \"min\": 0}, \"Total Records Seen\": {\"count\": 1, \"max\": 0, \"sum\": 0.0, \"min\": 0}, \"Max Records Seen Between Resets\": {\"count\": 1, \"max\": 0, \"sum\": 0.0, \"min\": 0}, \"Reset Count\": {\"count\": 1, \"max\": 0, \"sum\": 0.0, \"min\": 0}}, \"EndTime\": 1596531048.194648, \"Dimensions\": {\"Host\": \"algo-1\", \"Meta\": \"init_train_data_iter\", \"Operation\": \"training\", \"Algorithm\": \"PCA\"}, \"StartTime\": 1596531048.194612}\n",
      "\u001b[0m\n",
      "\u001b[34m[2020-08-04 08:50:48.195] [tensorio] [info] epoch_stats={\"data_pipeline\": \"/opt/ml/input/data/train\", \"epoch\": 0, \"duration\": 760, \"num_examples\": 1, \"num_bytes\": 122000}\u001b[0m\n",
      "\u001b[34m[2020-08-04 08:50:48.300] [tensorio] [info] epoch_stats={\"data_pipeline\": \"/opt/ml/input/data/train\", \"epoch\": 1, \"duration\": 96, \"num_examples\": 83, \"num_bytes\": 10009612}\u001b[0m\n",
      "\u001b[34m#metrics {\"Metrics\": {\"epochs\": {\"count\": 1, \"max\": 1, \"sum\": 1.0, \"min\": 1}, \"update.time\": {\"count\": 1, \"max\": 105.20601272583008, \"sum\": 105.20601272583008, \"min\": 105.20601272583008}}, \"EndTime\": 1596531048.30057, \"Dimensions\": {\"Host\": \"algo-1\", \"Operation\": \"training\", \"Algorithm\": \"PCA\"}, \"StartTime\": 1596531048.194534}\n",
      "\u001b[0m\n",
      "\u001b[34m[08/04/2020 08:50:48 INFO 140257548547904] #progress_metric: host=algo-1, completed 100 % of epochs\u001b[0m\n",
      "\u001b[34m#metrics {\"Metrics\": {\"Max Batches Seen Between Resets\": {\"count\": 1, \"max\": 83, \"sum\": 83.0, \"min\": 83}, \"Number of Batches Since Last Reset\": {\"count\": 1, \"max\": 83, \"sum\": 83.0, \"min\": 83}, \"Number of Records Since Last Reset\": {\"count\": 1, \"max\": 41023, \"sum\": 41023.0, \"min\": 41023}, \"Total Batches Seen\": {\"count\": 1, \"max\": 83, \"sum\": 83.0, \"min\": 83}, \"Total Records Seen\": {\"count\": 1, \"max\": 41023, \"sum\": 41023.0, \"min\": 41023}, \"Max Records Seen Between Resets\": {\"count\": 1, \"max\": 41023, \"sum\": 41023.0, \"min\": 41023}, \"Reset Count\": {\"count\": 1, \"max\": 1, \"sum\": 1.0, \"min\": 1}}, \"EndTime\": 1596531048.30091, \"Dimensions\": {\"Host\": \"algo-1\", \"Meta\": \"training_data_iter\", \"Operation\": \"training\", \"Algorithm\": \"PCA\", \"epoch\": 0}, \"StartTime\": 1596531048.195326}\n",
      "\u001b[0m\n",
      "\u001b[34m[08/04/2020 08:50:48 INFO 140257548547904] #throughput_metric: host=algo-1, train throughput=388001.896437 records/second\u001b[0m\n",
      "\u001b[34m#metrics {\"Metrics\": {\"finalize.time\": {\"count\": 1, \"max\": 16.75581932067871, \"sum\": 16.75581932067871, \"min\": 16.75581932067871}}, \"EndTime\": 1596531048.318028, \"Dimensions\": {\"Host\": \"algo-1\", \"Operation\": \"training\", \"Algorithm\": \"PCA\"}, \"StartTime\": 1596531048.300659}\n",
      "\u001b[0m\n",
      "\u001b[34m[08/04/2020 08:50:48 INFO 140257548547904] Test data is not provided.\u001b[0m\n",
      "\u001b[34m#metrics {\"Metrics\": {\"totaltime\": {\"count\": 1, \"max\": 1016.1340236663818, \"sum\": 1016.1340236663818, \"min\": 1016.1340236663818}, \"setuptime\": {\"count\": 1, \"max\": 39.4899845123291, \"sum\": 39.4899845123291, \"min\": 39.4899845123291}}, \"EndTime\": 1596531048.324368, \"Dimensions\": {\"Host\": \"algo-1\", \"Operation\": \"training\", \"Algorithm\": \"PCA\"}, \"StartTime\": 1596531048.318084}\n",
      "\u001b[0m\n",
      "\n",
      "2020-08-04 08:50:55 Uploading - Uploading generated training model\n",
      "2020-08-04 08:50:55 Completed - Training job completed\n",
      "Training seconds: 52\n",
      "Billable seconds: 52\n",
      "CPU times: user 1.18 s, sys: 51.4 ms, total: 1.24 s\n",
      "Wall time: 4min 13s\n"
     ]
    }
   ],
   "source": [
    "%%time\n",
    "pca_SM.fit(pca_SM.record_set(X))"
   ]
  },
  {
   "cell_type": "code",
   "execution_count": 68,
   "metadata": {},
   "outputs": [
    {
     "data": {
      "text/plain": [
       "0"
      ]
     },
     "execution_count": 68,
     "metadata": {},
     "output_type": "execute_result"
    }
   ],
   "source": [
    "job_name = pca_SM.latest_training_job.name\n",
    "model_key = \"pca/\" + job_name + \"/output/model.tar.gz\"\n",
    "\n",
    "boto3.resource('s3').Bucket(bucket).download_file(model_key, 'model.tar.gz')\n",
    "os.system('tar -zxvf model.tar.gz')"
   ]
  },
  {
   "cell_type": "code",
   "execution_count": 69,
   "metadata": {},
   "outputs": [],
   "source": [
    "import mxnet as mx\n",
    "pca_model_params = mx.ndarray.load('model_algo-1')"
   ]
  },
  {
   "cell_type": "code",
   "execution_count": 70,
   "metadata": {},
   "outputs": [],
   "source": [
    "s=pd.DataFrame(pca_model_params['s'].asnumpy())\n",
    "v=pd.DataFrame(pca_model_params['v'].asnumpy())"
   ]
  },
  {
   "cell_type": "code",
   "execution_count": 72,
   "metadata": {},
   "outputs": [
    {
     "data": {
      "text/plain": [
       "0    0.982534\n",
       "dtype: float32"
      ]
     },
     "execution_count": 72,
     "metadata": {},
     "output_type": "execute_result"
    }
   ],
   "source": [
    "s.iloc[4:,:].apply(lambda x: x*x).sum()/s.apply(lambda x: x*x).sum()"
   ]
  },
  {
   "cell_type": "code",
   "execution_count": 54,
   "metadata": {},
   "outputs": [],
   "source": [
    "s_6=s.iloc[20:,:]\n",
    "v_6=v.iloc[:,20:]\n",
    "v_6.columns=[0,1,2,3,4,5]"
   ]
  },
  {
   "cell_type": "code",
   "execution_count": 60,
   "metadata": {},
   "outputs": [
    {
     "data": {
      "image/png": "[encoded data removed]",
      "text/plain": [
       "<Figure size 432x288 with 1 Axes>"
      ]
     },
     "metadata": {
      "needs_background": "light"
     },
     "output_type": "display_data"
    }
   ],
   "source": [
    "component_num=1\n",
    "import seaborn as sns\n",
    "\n",
    "first_comp = v_6[6-component_num]\n",
    "comps = pd.DataFrame(list(zip(first_comp, features_to_train)), columns=['weights', 'features'])\n",
    "comps['abs_weights']=comps['weights'].apply(lambda x: np.abs(x))\n",
    "ax=sns.barplot(data=comps.sort_values('abs_weights', ascending=False).head(10), x=\"weights\", y=\"features\", palette=\"Blues_d\")\n",
    "ax.set_title(\"PCA Component Makeup: #\" + str(component_num))\n",
    "plt.show()"
   ]
  },
  {
   "cell_type": "code",
   "execution_count": null,
   "metadata": {},
   "outputs": [],
   "source": []
  },
  {
   "cell_type": "code",
   "execution_count": 73,
   "metadata": {},
   "outputs": [
    {
     "data": {
      "text/html": [
       "<div>\n",
       "<style scoped>\n",
       "    .dataframe tbody tr th:only-of-type {\n",
       "        vertical-align: middle;\n",
       "    }\n",
       "\n",
       "    .dataframe tbody tr th {\n",
       "        vertical-align: top;\n",
       "    }\n",
       "\n",
       "    .dataframe thead th {\n",
       "        text-align: right;\n",
       "    }\n",
       "</style>\n",
       "<table border=\"1\" class=\"dataframe\">\n",
       "  <thead>\n",
       "    <tr style=\"text-align: right;\">\n",
       "      <th></th>\n",
       "      <th>0</th>\n",
       "      <th>1</th>\n",
       "    </tr>\n",
       "  </thead>\n",
       "  <tbody>\n",
       "    <tr>\n",
       "      <th>0</th>\n",
       "      <td>PC1</td>\n",
       "      <td>RL-780-H</td>\n",
       "    </tr>\n",
       "    <tr>\n",
       "      <th>1</th>\n",
       "      <td>PC2</td>\n",
       "      <td>SSC-H</td>\n",
       "    </tr>\n",
       "    <tr>\n",
       "      <th>2</th>\n",
       "      <td>PC3</td>\n",
       "      <td>FSC-H</td>\n",
       "    </tr>\n",
       "    <tr>\n",
       "      <th>3</th>\n",
       "      <td>PC4</td>\n",
       "      <td>BL-530-H</td>\n",
       "    </tr>\n",
       "    <tr>\n",
       "      <th>4</th>\n",
       "      <td>PC5</td>\n",
       "      <td>VL-445-H</td>\n",
       "    </tr>\n",
       "    <tr>\n",
       "      <th>5</th>\n",
       "      <td>PC6</td>\n",
       "      <td>VL-445-H</td>\n",
       "    </tr>\n",
       "    <tr>\n",
       "      <th>6</th>\n",
       "      <td>PC7</td>\n",
       "      <td>RL-695-H</td>\n",
       "    </tr>\n",
       "    <tr>\n",
       "      <th>7</th>\n",
       "      <td>PC8</td>\n",
       "      <td>YL-586-H</td>\n",
       "    </tr>\n",
       "  </tbody>\n",
       "</table>\n",
       "</div>"
      ],
      "text/plain": [
       "     0         1\n",
       "0  PC1  RL-780-H\n",
       "1  PC2     SSC-H\n",
       "2  PC3     FSC-H\n",
       "3  PC4  BL-530-H\n",
       "4  PC5  VL-445-H\n",
       "5  PC6  VL-445-H\n",
       "6  PC7  RL-695-H\n",
       "7  PC8  YL-586-H"
      ]
     },
     "execution_count": 73,
     "metadata": {},
     "output_type": "execute_result"
    }
   ],
   "source": [
    "# number of components\n",
    "n_pcs= 8\n",
    "\n",
    "# get the index of the most important feature on EACH component i.e. largest absolute value\n",
    "# using LIST COMPREHENSION HERE\n",
    "most_important = [np.abs(v[i]).argmax() for i in range(n_pcs)]\n",
    "\n",
    "initial_feature_names = features_to_train\n",
    "\n",
    "# get the names\n",
    "most_important_names = [initial_feature_names[most_important[i]] for i in range(n_pcs)]\n",
    "\n",
    "# using LIST COMPREHENSION HERE AGAIN\n",
    "dic = {'PC{}'.format(i+1): most_important_names[i] for i in range(n_pcs)}\n",
    "\n",
    "# build the dataframe\n",
    "df = pd.DataFrame(sorted(dic.items()))\n",
    "df"
   ]
  },
  {
   "cell_type": "code",
   "execution_count": null,
   "metadata": {},
   "outputs": [],
   "source": []
  }
 ],
 "metadata": {
  "instance_type": "ml.t3.medium",
  "kernelspec": {
   "display_name": "Python 3 (Data Science)",
   "language": "python",
   "name": "python3__SAGEMAKER_INTERNAL__arn:aws:sagemaker:eu-west-1:470317259841:image/datascience-1.0"
  },
  "language_info": {
   "codemirror_mode": {
    "name": "ipython",
    "version": 3
   },
   "file_extension": ".py",
   "mimetype": "text/x-python",
   "name": "python",
   "nbconvert_exporter": "python",
   "pygments_lexer": "ipython3",
   "version": "3.7.6"
  }
 },
 "nbformat": 4,
 "nbformat_minor": 4
}
